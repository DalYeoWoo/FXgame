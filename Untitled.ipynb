{
 "cells": [
  {
   "cell_type": "code",
   "execution_count": 7,
   "id": "e4cc8476",
   "metadata": {},
   "outputs": [
    {
     "name": "stdout",
     "output_type": "stream",
     "text": [
      "3.5\n",
      "2.9166666666666665\n"
     ]
    }
   ],
   "source": [
    "score = [[4.0, 3.0, 2.0], [3.0, 2.0, 3.5]]\n",
    "print(score[1][2]) # 2행 3열에 위치한 3.5를 출력\n",
    "print(sum([sum(i) for i in score])/sum([len(i) for i in score])) #전체 학점 평균"
   ]
  },
  {
   "cell_type": "code",
   "execution_count": 20,
   "id": "dd2afe49",
   "metadata": {
    "scrolled": true
   },
   "outputs": [
    {
     "name": "stdout",
     "output_type": "stream",
     "text": [
      "[5, 4, 3, 2, 1]\n"
     ]
    },
    {
     "data": {
      "text/plain": [
       "[5, 4, 3, 2, 1]"
      ]
     },
     "execution_count": 20,
     "metadata": {},
     "output_type": "execute_result"
    }
   ],
   "source": [
    "from random import *\n",
    "\n",
    "def func(num,rg_low, rg_high):\n",
    "    \n",
    "    deflist = []\n",
    "    \n",
    "    for i in range(num): # 특정 범위 내의 난수 생성기\n",
    "        n = randint(rg_low,rg_high)\n",
    "        while n in deflist:\n",
    "            n = randint(rg_low,rg_high)\n",
    "        deflist.append(n)\n",
    "        \n",
    "    deflist.sort(reverse=True) # 내림차순 정렬\n",
    "    \n",
    "    print(deflist)\n",
    "    \n",
    "    return deflist\n",
    "\n",
    "func(5,1,5) # 출력"
   ]
  },
  {
   "cell_type": "code",
   "execution_count": 54,
   "id": "4d1ed058",
   "metadata": {},
   "outputs": [
    {
     "data": {
      "text/plain": [
       "'\\n과장해서, 수수료가 5000원이라 하자. 위의 코드에서는 10만원을 출금하고자 할 때\\n10만 5천원이 계좌에서 빠져나가도록 구성했다.\\n다만, 수수료가 빠져나가는 방식이 10만원을 출금하고자 할 때 9만 5천원만 출금되는 방식이라면,\\nBank.credit_total -= (value*0.9999)\\nself.credit -= value\\n으로 바꿔어야 한다.\\n'"
      ]
     },
     "execution_count": 54,
     "metadata": {},
     "output_type": "execute_result"
    }
   ],
   "source": [
    "class Bank:\n",
    "    \n",
    "    num_accounts = 0 # 전체 계좌 수\n",
    "    credit_total = 0 # 전체 잔고\n",
    "    \n",
    "    def __init__(self, credit): # 생성자 함수\n",
    "        self.credit = credit\n",
    "        Bank.num_accounts += 1\n",
    "        Bank.credit_total += credit\n",
    "        print(\"계좌 생성\")\n",
    "    \n",
    "    def view_account(self): # 계좌 조회\n",
    "        return self.credit\n",
    "    \n",
    "    def deposit(self, value): # 입금\n",
    "        Bank.credit_total += value\n",
    "        self.credit += (value * 0.9999)\n",
    "        \n",
    "    def withdraw(self, value): # 출금\n",
    "        if (value > Bank.credit_total or value > self.credit):\n",
    "            print(\"해당 금액만큼 출금할 수 없습니다.\") # 문제 제시 조건이 아니므로 이 기능은 주석 처리해도 상관없음.\n",
    "        else:\n",
    "            Bank.credit_total -= value\n",
    "            self.credit -= (value * 1.0001)\n",
    "            \n",
    "'''\n",
    "과장해서, 수수료가 5000원이라 하자. 위의 코드에서는 10만원을 출금하고자 할 때\n",
    "10만 5천원이 계좌에서 빠져나가도록 구성했다.\n",
    "다만, 수수료가 빠져나가는 방식이 10만원을 출금하고자 할 때 9만 5천원만 출금되는 방식이라면,\n",
    "Bank.credit_total -= (value*0.9999)\n",
    "self.credit -= value\n",
    "으로 바꿔어야 한다.\n",
    "'''"
   ]
  },
  {
   "cell_type": "code",
   "execution_count": 55,
   "id": "4966cf0e",
   "metadata": {},
   "outputs": [
    {
     "name": "stdout",
     "output_type": "stream",
     "text": [
      "계좌 생성\n"
     ]
    }
   ],
   "source": [
    "Hayeon = Bank(0) # 네 이름 영어 철자를 몰라서 임의로 썼어. 나중에 바꿔."
   ]
  },
  {
   "cell_type": "code",
   "execution_count": 56,
   "id": "91262a16",
   "metadata": {},
   "outputs": [
    {
     "name": "stdout",
     "output_type": "stream",
     "text": [
      "29997.0\n"
     ]
    }
   ],
   "source": [
    "Hayeon.deposit(30000)\n",
    "print(Hayeon.view_account())"
   ]
  },
  {
   "cell_type": "code",
   "execution_count": 59,
   "id": "4b4e2fef",
   "metadata": {},
   "outputs": [],
   "source": [
    "class minus_account(Bank):\n",
    "    \n",
    "    def withdraw(self, value):\n",
    "        if (value > Bank.credit_total):\n",
    "            print(\"은행 잔고 부족\")\n",
    "        else :\n",
    "            if ((value-self.credit) <= 100000):\n",
    "                Bank.credit_total -= value\n",
    "                self.credit -= (value * 1.0002)\n",
    "            else :\n",
    "                print(\"해당 금액을 출력할 수 없습니다.\")\n",
    "    \n",
    "    # 문제 3-3에서 수수료가 0.02%라는게, 개인 잔고 이상의 출금을 시도할 때만 그러한 것이라면 아래 주석의 코드를 대체하여 사용한다.\n",
    "    '''\n",
    "    def withdraw(self. value):\n",
    "        if (value > Bank.credit_total):\n",
    "            print(\"은행 잔고 부족\")\n",
    "        else if (value > self.credit):\n",
    "            if ((value-self.credit) <= 100000):\n",
    "                Bank.credit_total -= value\n",
    "                self.credit -= (value * 1.0002)\n",
    "            else :\n",
    "                print(\"해당 금액을 출력할 수 없습니다.\")\n",
    "        else: \n",
    "            Bank.credit_total -= value\n",
    "            self.credit -= (value * 1.0001)\n",
    "    '''"
   ]
  },
  {
   "cell_type": "code",
   "execution_count": 64,
   "id": "cbb15459",
   "metadata": {},
   "outputs": [
    {
     "name": "stdout",
     "output_type": "stream",
     "text": [
      "계좌 생성\n"
     ]
    }
   ],
   "source": [
    "Hayeon2 = minus_account(0)"
   ]
  },
  {
   "cell_type": "code",
   "execution_count": 65,
   "id": "e389a3e1",
   "metadata": {},
   "outputs": [
    {
     "name": "stdout",
     "output_type": "stream",
     "text": [
      "은행 잔고 부족\n",
      "0\n"
     ]
    }
   ],
   "source": [
    "Hayeon2.withdraw(40000)\n",
    "print(Hayeon2.view_account())"
   ]
  },
  {
   "cell_type": "code",
   "execution_count": 66,
   "id": "6589a0db",
   "metadata": {},
   "outputs": [
    {
     "name": "stdout",
     "output_type": "stream",
     "text": [
      "-20004.0\n"
     ]
    }
   ],
   "source": [
    "Hayeon2.withdraw(20000)\n",
    "print(Hayeon2.view_account())"
   ]
  }
 ],
 "metadata": {
  "kernelspec": {
   "display_name": "Python 3 (ipykernel)",
   "language": "python",
   "name": "python3"
  },
  "language_info": {
   "codemirror_mode": {
    "name": "ipython",
    "version": 3
   },
   "file_extension": ".py",
   "mimetype": "text/x-python",
   "name": "python",
   "nbconvert_exporter": "python",
   "pygments_lexer": "ipython3",
   "version": "3.8.12"
  }
 },
 "nbformat": 4,
 "nbformat_minor": 5
}
